{
 "cells": [
  {
   "cell_type": "markdown",
   "id": "175c04d2",
   "metadata": {},
   "source": [
    "You want to recommend a movie to a friend based on the rating and popularity. To accomplish this do the following:\n",
    "\n",
    "- Create a variable for the movie (choose any movie you like).\n",
    "- Create a variable of type int to hold the rating of the movie out of 5. Give this movie rate = 3\n",
    "- Create a popularity score of type float, let it be 72.65\n",
    "- Using an if statement:\n",
    "    - Check if the movie rating is 4 or greater and the popularity is greater than 80, print \"Highly recommended\".\n",
    "    - Else if the movie rating is 3 or greater and the popularity is greater than 70, print \"I recommended it, It is good\".\n",
    "    - Else if the movie rating is 2 or less and the popularity is greater than 60, print \"You should check it out!\".\n",
    "    - Else the movie rating is 2 or less and the popularity is less than 50, print \"Don't watch it, It is a waste of time\"."
   ]
  },
  {
   "cell_type": "code",
   "execution_count": 7,
   "id": "50e6e624",
   "metadata": {},
   "outputs": [
    {
     "name": "stdout",
     "output_type": "stream",
     "text": [
      "I recommended it, It is good\n"
     ]
    }
   ],
   "source": [
    "movieName= \"7 kings must die\"\n",
    "movieRate= 3\n",
    "moviePopularity= 72.65\n",
    "\n",
    "if movieRate>=4 and moviePopularity>80:\n",
    "    print (\"Highly recommended\")\n",
    "    \n",
    "elif movieRate>=3 and moviePopularity>70:\n",
    "    print (\"I recommended it, It is good\")\n",
    "    \n",
    "elif movieRate<=2 and moviePopularity>60:\n",
    "    print (\"I recommended it, It is good\")\n",
    "    \n",
    "elif movieRate<=2 and moviePopularity<50:\n",
    "            print (\"Don't watch it, It is a waste of time\")\n"
   ]
  }
 ],
 "metadata": {
  "kernelspec": {
   "display_name": "Python 3 (ipykernel)",
   "language": "python",
   "name": "python3"
  },
  "language_info": {
   "codemirror_mode": {
    "name": "ipython",
    "version": 3
   },
   "file_extension": ".py",
   "mimetype": "text/x-python",
   "name": "python",
   "nbconvert_exporter": "python",
   "pygments_lexer": "ipython3",
   "version": "3.11.5"
  }
 },
 "nbformat": 4,
 "nbformat_minor": 5
}
